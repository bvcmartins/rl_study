{
 "cells": [
  {
   "cell_type": "code",
   "execution_count": 1,
   "metadata": {},
   "outputs": [],
   "source": [
    "import torch\n",
    "import torch.nn as nn\n",
    "import torch.optim as optim\n",
    "import numpy as np\n",
    "import random\n",
    "from collections import deque\n",
    "import gymnasium as gym\n",
    "import matplotlib.pyplot as plt\n",
    "from IPython.display import clear_output\n",
    "import mlflow\n",
    "import mlflow.pytorch\n",
    "import wandb\n",
    "import os\n",
    "from dotenv import load_dotenv\n",
    "from pathlib import Path\n",
    "\n",
    "# Import comprehensive logging utilities (now all in one file)\n",
    "from logging_utils import *"
   ]
  },
  {
   "cell_type": "code",
   "execution_count": 2,
   "metadata": {},
   "outputs": [],
   "source": [
    "import ale_py\n",
    "gym.register_envs(ale_py)"
   ]
  },
  {
   "cell_type": "code",
   "execution_count": 3,
   "metadata": {},
   "outputs": [
    {
     "name": "stdout",
     "output_type": "stream",
     "text": [
      "Random seed set to: 14127\n"
     ]
    }
   ],
   "source": [
    "# Reproducibility\n",
    "SEED = 14127 \n",
    "\n",
    "random.seed(SEED)\n",
    "np.random.seed(SEED)\n",
    "torch.manual_seed(SEED)\n",
    "if torch.cuda.is_available():\n",
    "    torch.cuda.manual_seed(SEED)\n",
    "    torch.cuda.manual_seed_all(SEED)\n",
    "    torch.backends.cudnn.deterministic = True\n",
    "    torch.backends.cudnn.benchmark = False\n",
    "\n",
    "print(f\"Random seed set to: {SEED}\")"
   ]
  },
  {
   "cell_type": "code",
   "execution_count": 4,
   "metadata": {},
   "outputs": [],
   "source": [
    "class ConvDQN(nn.Module):\n",
    "    def __init__(self, input_channels, action_size):\n",
    "        super(ConvDQN, self).__init__()\n",
    "        \n",
    "        # Optimized architecture: 32→36→20 filters (vs original 32→64→64)\n",
    "        self.conv = nn.Sequential(\n",
    "            nn.Conv2d(input_channels, 32, kernel_size=8, stride=4, padding=2),\n",
    "            nn.ReLU(),\n",
    "            nn.Conv2d(32, 36, kernel_size=4, stride=2, padding=1),  # Reduced from 64 to 36\n",
    "            nn.ReLU(),\n",
    "            nn.Conv2d(36, 20, kernel_size=3, stride=1, padding=1),  # Reduced from 64 to 20\n",
    "            nn.ReLU()\n",
    "        )\n",
    "        \n",
    "        # Calculate correct feature size dynamically\n",
    "        self.feature_size = self._get_conv_output_size()\n",
    "        \n",
    "        self.fc = nn.Sequential(\n",
    "            nn.Linear(self.feature_size, 512),\n",
    "            nn.ReLU(),\n",
    "            nn.Linear(512, action_size)\n",
    "        )\n",
    "    \n",
    "    def _get_conv_output_size(self):\n",
    "        \"\"\"Calculate the output size of conv layers\"\"\"\n",
    "        with torch.no_grad():\n",
    "            dummy_input = torch.zeros(1, 2, 84, 84)  # 1 batch size, 2 channels, 84x84\n",
    "            conv_output = self.conv(dummy_input)\n",
    "            return conv_output.numel() // conv_output.size(0)  # Flatten size per sample\n",
    "    \n",
    "    def forward(self, x):\n",
    "        x = self.conv(x)\n",
    "        x = x.view(x.size(0), -1)\n",
    "        x = self.fc(x)\n",
    "        return x\n",
    "\n",
    "class ReplayBuffer:\n",
    "    def __init__(self, capacity):\n",
    "        self.buffer = deque(maxlen=capacity)\n",
    "    \n",
    "    def push(self, state, action, reward, next_state, done):\n",
    "        self.buffer.append((state, action, reward, next_state, done))\n",
    "    \n",
    "    def sample(self, batch_size):\n",
    "        batch = random.sample(self.buffer, batch_size)\n",
    "        state, action, reward, next_state, done = zip(*batch)\n",
    "        return np.array(state), action, reward, np.array(next_state), done\n",
    "    \n",
    "    def __len__(self):\n",
    "        return len(self.buffer)\n",
    "\n",
    "def preprocess_frame(frame):\n",
    "    import cv2\n",
    "    gray = np.mean(frame, axis=2).astype(np.uint8)\n",
    "    cropped = gray[34:194, :]\n",
    "    resized = cv2.resize(cropped, (84, 84), interpolation=cv2.INTER_AREA)\n",
    "    return resized.astype(np.float32) / 255.0\n",
    "\n",
    "class FrameStack:\n",
    "    def __init__(self, num_frames=2):\n",
    "        self.num_frames = num_frames\n",
    "        self.frames = deque(maxlen=num_frames)\n",
    "    \n",
    "    def reset(self, frame):\n",
    "        processed_frame = preprocess_frame(frame)\n",
    "        for _ in range(self.num_frames):\n",
    "            self.frames.append(processed_frame)\n",
    "        return self.get_stacked()\n",
    "    \n",
    "    def step(self, frame):\n",
    "        processed_frame = preprocess_frame(frame)\n",
    "        self.frames.append(processed_frame)\n",
    "        return self.get_stacked()\n",
    "    \n",
    "    def get_stacked(self):\n",
    "        return np.stack(list(self.frames), axis=0)"
   ]
  },
  {
   "cell_type": "code",
   "execution_count": 5,
   "metadata": {},
   "outputs": [
    {
     "name": "stderr",
     "output_type": "stream",
     "text": [
      "\u001b[34m\u001b[1mwandb\u001b[0m: \u001b[33mWARNING\u001b[0m If you're specifying your api key in code, ensure this code is not shared publicly.\n",
      "\u001b[34m\u001b[1mwandb\u001b[0m: \u001b[33mWARNING\u001b[0m Consider setting the WANDB_API_KEY environment variable, or running `wandb login` from the command line.\n",
      "\u001b[34m\u001b[1mwandb\u001b[0m: Appending key for api.wandb.ai to your netrc file: /home/bmartins/.netrc\n",
      "\u001b[34m\u001b[1mwandb\u001b[0m: Currently logged in as: \u001b[33mbmartins\u001b[0m to \u001b[32mhttps://api.wandb.ai\u001b[0m. Use \u001b[1m`wandb login --relogin`\u001b[0m to force relogin\n"
     ]
    },
    {
     "data": {
      "text/html": [
       "Tracking run with wandb version 0.21.1"
      ],
      "text/plain": [
       "<IPython.core.display.HTML object>"
      ]
     },
     "metadata": {},
     "output_type": "display_data"
    },
    {
     "data": {
      "text/html": [
       "Run data is saved locally in <code>/home/bmartins/dev/rl_study/wandb/wandb/run-20251004_182606-nwc4j6tt</code>"
      ],
      "text/plain": [
       "<IPython.core.display.HTML object>"
      ]
     },
     "metadata": {},
     "output_type": "display_data"
    },
    {
     "data": {
      "text/html": [
       "Syncing run <strong><a href='https://wandb.ai/bmartins/pong_dqn_training/runs/nwc4j6tt' target=\"_blank\">pong_cnn_dqn_v2_optimized</a></strong> to <a href='https://wandb.ai/bmartins/pong_dqn_training' target=\"_blank\">Weights & Biases</a> (<a href='https://wandb.me/developer-guide' target=\"_blank\">docs</a>)<br>"
      ],
      "text/plain": [
       "<IPython.core.display.HTML object>"
      ]
     },
     "metadata": {},
     "output_type": "display_data"
    },
    {
     "data": {
      "text/html": [
       " View project at <a href='https://wandb.ai/bmartins/pong_dqn_training' target=\"_blank\">https://wandb.ai/bmartins/pong_dqn_training</a>"
      ],
      "text/plain": [
       "<IPython.core.display.HTML object>"
      ]
     },
     "metadata": {},
     "output_type": "display_data"
    },
    {
     "data": {
      "text/html": [
       " View run at <a href='https://wandb.ai/bmartins/pong_dqn_training/runs/nwc4j6tt' target=\"_blank\">https://wandb.ai/bmartins/pong_dqn_training/runs/nwc4j6tt</a>"
      ],
      "text/plain": [
       "<IPython.core.display.HTML object>"
      ]
     },
     "metadata": {},
     "output_type": "display_data"
    },
    {
     "data": {
      "text/html": [
       "<button onClick=\"this.nextSibling.style.display='block';this.style.display='none';\">Display W&B run</button><iframe src='https://wandb.ai/bmartins/pong_dqn_training/runs/nwc4j6tt?jupyter=true' style='border:none;width:100%;height:420px;display:none;'></iframe>"
      ],
      "text/plain": [
       "<wandb.sdk.wandb_run.Run at 0x70ee9b159be0>"
      ]
     },
     "execution_count": 5,
     "metadata": {},
     "output_type": "execute_result"
    }
   ],
   "source": [
    "# Global hyperparameters\n",
    "LEARNING_RATE = 0.0001\n",
    "GAMMA = 0.99\n",
    "EPSILON_START = 1.0\n",
    "EPSILON_MIN = 0.01\n",
    "EPSILON_DECAY = 0.995\n",
    "BATCH_SIZE = 32\n",
    "BUFFER_SIZE = 100000\n",
    "TARGET_UPDATE = 1000\n",
    "MEAN_REWARD_BOUND = 19.5  # Changed from MAX_REWARD_BOUND to MEAN_REWARD_BOUND\n",
    "FRAME_SKIP = 4\n",
    "INPUT_CHANNELS = 2\n",
    "FRAME_STACK = 2\n",
    "\n",
    "# Unified logging frequency - Enhanced monitoring configuration\n",
    "LOG_FREQ = 100  # Log comprehensive analysis every 100 episodes\n",
    "GRADIENT_LOG_FREQ = 500  # Log gradients every 500 steps\n",
    "\n",
    "# Architecture version for tracking\n",
    "ARCHITECTURE_NAME = \"CNN-DQN-v2\"\n",
    "ARCHITECTURE_TYPE = \"v2\"  # \"v2\" for 32-36-20 optimized architecture\n",
    "MODEL_FILTERS = \"32-36-20\"  # vs original \"32-64-64\"\n",
    "\n",
    "# Setup hyperparameters dictionary - SINGLE SOURCE OF TRUTH\n",
    "HYPERPARAMETERS = {\n",
    "    \"seed\": SEED,\n",
    "    \"learning_rate\": LEARNING_RATE,\n",
    "    \"gamma\": GAMMA,\n",
    "    \"epsilon_start\": EPSILON_START,\n",
    "    \"epsilon_min\": EPSILON_MIN,\n",
    "    \"epsilon_decay\": EPSILON_DECAY,\n",
    "    \"batch_size\": BATCH_SIZE,\n",
    "    \"buffer_size\": BUFFER_SIZE,\n",
    "    \"target_update\": TARGET_UPDATE,\n",
    "    \"mean_reward_bound\": MEAN_REWARD_BOUND,  # Updated key name\n",
    "    \"frame_skip\": FRAME_SKIP,\n",
    "    \"input_channels\": INPUT_CHANNELS,\n",
    "    \"frame_stack\": FRAME_STACK,\n",
    "    \"architecture\": ARCHITECTURE_NAME,\n",
    "    \"model_filters\": MODEL_FILTERS,\n",
    "    \"architecture_type\": ARCHITECTURE_TYPE,\n",
    "    # Enhanced logging configuration\n",
    "    \"log_freq\": LOG_FREQ,\n",
    "    \"gradient_log_freq\": GRADIENT_LOG_FREQ,\n",
    "    \"comprehensive_monitoring\": True,\n",
    "    \"weight_bias_analysis\": True\n",
    "}\n",
    "\n",
    "# Set up directories for artifacts using relative paths\n",
    "RL_STUDY_DIR = Path(__file__).resolve().parent.parent.parent if '__file__' in globals() else Path.cwd().parent.parent\n",
    "MLFLOW_TRACKING_URI = RL_STUDY_DIR / 'mlruns'\n",
    "WANDB_DIR = RL_STUDY_DIR / 'wandb'\n",
    "BASE_ARTIFACTS_DIR = RL_STUDY_DIR / 'artifacts'\n",
    "\n",
    "# Configure MLflow to use local tracking\n",
    "mlflow.set_tracking_uri(f'file://{MLFLOW_TRACKING_URI}')\n",
    "\n",
    "# Configure wandb to use local directory\n",
    "os.environ['WANDB_DIR'] = str(WANDB_DIR)\n",
    "WANDB_DIR.mkdir(exist_ok=True)\n",
    "BASE_ARTIFACTS_DIR.mkdir(exist_ok=True)\n",
    "MLFLOW_TRACKING_URI.mkdir(exist_ok=True)\n",
    "\n",
    "# Initialize wandb with unified project name\n",
    "load_dotenv(RL_STUDY_DIR / '.env')\n",
    "wandb_key = os.getenv('WANDB_KEY')\n",
    "wandb.login(key=wandb_key)\n",
    "\n",
    "wandb.init(\n",
    "    project=\"pong_dqn_training\",  # Unified project name same as v1\n",
    "    name=\"pong_cnn_dqn_v2_optimized\",\n",
    "    dir=str(WANDB_DIR),\n",
    "    config=HYPERPARAMETERS  # Use single source of truth\n",
    ")"
   ]
  },
  {
   "cell_type": "code",
   "execution_count": 6,
   "metadata": {},
   "outputs": [],
   "source": [
    "# HYPERPARAMETERS now defined in cell-3 as single source of truth\n",
    "# All comprehensive logging functions imported from logging_utils.py"
   ]
  },
  {
   "cell_type": "code",
   "execution_count": 7,
   "metadata": {},
   "outputs": [],
   "source": [
    "# All weight visualization and analysis functions are now imported from logging_utils.py\n",
    "# This includes all enhanced weight/bias logging, comprehensive analysis, and visualization functions"
   ]
  },
  {
   "cell_type": "code",
   "execution_count": 8,
   "metadata": {},
   "outputs": [],
   "source": [
    "def train_dqn():\n",
    "    # End any active runs first\n",
    "    if mlflow.active_run():\n",
    "        mlflow.end_run()\n",
    "    \n",
    "    # MLflow experiment setup - unified with wandb name\n",
    "    mlflow.set_experiment(\"pong_dqn_training\")\n",
    "    \n",
    "    with mlflow.start_run():\n",
    "        # Create artifacts directory using MLflow run ID and rl_study structure\n",
    "        run_id = mlflow.active_run().info.run_id\n",
    "        artifacts_dir = BASE_ARTIFACTS_DIR / f\"run_{run_id}\"\n",
    "        artifacts_dir.mkdir(parents=True, exist_ok=True)\n",
    "        print(f\"Artifacts will be saved to: {artifacts_dir}\")\n",
    "        \n",
    "        env = gym.make('PongNoFrameskip-v4')\n",
    "        env.reset(seed=SEED)  # Set seed for environment\n",
    "        \n",
    "        # Use global hyperparameters\n",
    "        action_size = env.action_space.n\n",
    "        lr = LEARNING_RATE\n",
    "        gamma = GAMMA\n",
    "        epsilon = EPSILON_START\n",
    "        epsilon_min = EPSILON_MIN\n",
    "        epsilon_decay = EPSILON_DECAY\n",
    "        batch_size = BATCH_SIZE\n",
    "        buffer_size = BUFFER_SIZE\n",
    "        target_update = TARGET_UPDATE\n",
    "        mean_reward_bound = MEAN_REWARD_BOUND  # Updated variable name\n",
    "        frame_skip = FRAME_SKIP\n",
    "        \n",
    "        # Log hyperparameters using external function\n",
    "        log_hyperparameters(str(artifacts_dir), HYPERPARAMETERS)\n",
    "        \n",
    "        device = torch.device(\"cuda\" if torch.cuda.is_available() else \"cpu\")\n",
    "        print(f\"Using device: {device}\")\n",
    "        \n",
    "        main_net = ConvDQN(input_channels=INPUT_CHANNELS, action_size=action_size).to(device)\n",
    "        target_net = ConvDQN(input_channels=INPUT_CHANNELS, action_size=action_size).to(device)\n",
    "        target_net.load_state_dict(main_net.state_dict())\n",
    "        \n",
    "        # Setup enhanced weight tracking using logging utils\n",
    "        setup_weight_tracking(main_net, log_freq=GRADIENT_LOG_FREQ, log_all=True)\n",
    "        \n",
    "        # Log model info using external function\n",
    "        total_params = log_model_info(main_net, device, ARCHITECTURE_NAME)\n",
    "        \n",
    "        optimizer = optim.Adam(main_net.parameters(), lr=lr)\n",
    "        buffer = ReplayBuffer(buffer_size)\n",
    "        \n",
    "        episode_rewards = []\n",
    "        mean_rewards = []\n",
    "        episode = 0\n",
    "        total_steps = 0\n",
    "        \n",
    "        while True:\n",
    "            state, _ = env.reset()\n",
    "            frame_stack = FrameStack(FRAME_STACK)\n",
    "            stacked_state = frame_stack.reset(state)\n",
    "            total_reward = 0\n",
    "            done = False\n",
    "            step_count = 0\n",
    "            episode_losses = []\n",
    "            \n",
    "            while not done:\n",
    "                if random.random() > epsilon:\n",
    "                    with torch.no_grad():\n",
    "                        state_tensor = torch.FloatTensor(stacked_state).unsqueeze(0).to(device)\n",
    "                        q_values = main_net(state_tensor)\n",
    "                        action = q_values.max(1)[1].item()\n",
    "                else:\n",
    "                    action = env.action_space.sample()\n",
    "                \n",
    "                step_reward = 0\n",
    "                for _ in range(frame_skip):\n",
    "                    next_state, reward, terminated, truncated, _ = env.step(action)\n",
    "                    step_reward += reward\n",
    "                    if terminated or truncated:\n",
    "                        break\n",
    "                \n",
    "                done = terminated or truncated\n",
    "                next_stacked_state = frame_stack.step(next_state)\n",
    "                \n",
    "                buffer.push(stacked_state, action, step_reward, next_stacked_state, done)\n",
    "                stacked_state = next_stacked_state\n",
    "                total_reward += step_reward\n",
    "                step_count += 1\n",
    "                total_steps += 1\n",
    "                \n",
    "                if len(buffer) > batch_size:\n",
    "                    states, actions, rewards, next_states, dones = buffer.sample(batch_size)\n",
    "                    \n",
    "                    states = torch.FloatTensor(states).to(device)\n",
    "                    actions = torch.LongTensor(actions).to(device)\n",
    "                    rewards = torch.FloatTensor(rewards).to(device)\n",
    "                    next_states = torch.FloatTensor(next_states).to(device)\n",
    "                    dones = torch.BoolTensor(dones).to(device)\n",
    "                    \n",
    "                    current_q_values = main_net(states).gather(1, actions.unsqueeze(1))\n",
    "                    \n",
    "                    with torch.no_grad():\n",
    "                        next_q_values = target_net(next_states).max(1)[0]\n",
    "                        target_q_values = rewards + (gamma * next_q_values * ~dones)\n",
    "                    \n",
    "                    loss = nn.MSELoss()(current_q_values.squeeze(), target_q_values)\n",
    "                    episode_losses.append(loss.item())\n",
    "                    \n",
    "                    optimizer.zero_grad()\n",
    "                    loss.backward()\n",
    "                    torch.nn.utils.clip_grad_norm_(main_net.parameters(), max_norm=10)\n",
    "                    optimizer.step()\n",
    "                    \n",
    "                    # Enhanced gradient logging\n",
    "                    if total_steps % GRADIENT_LOG_FREQ == 0:\n",
    "                        log_training_step(loss.item(), episode, step_count)\n",
    "                        log_layer_wise_gradient_norms(main_net, total_steps)\n",
    "                        \n",
    "                        # Log weight and bias norms during training\n",
    "                        current_weight_norms = {}\n",
    "                        current_bias_norms = {}\n",
    "                        for name, param in main_net.named_parameters():\n",
    "                            if param.requires_grad:\n",
    "                                if 'bias' in name:\n",
    "                                    current_bias_norms[f\"bias_norms/{name}\"] = param.data.norm().item()\n",
    "                                else:\n",
    "                                    current_weight_norms[f\"weight_norms/{name}\"] = param.data.norm().item()\n",
    "                        \n",
    "                        wandb.log({\n",
    "                            **current_weight_norms,\n",
    "                            **current_bias_norms,\n",
    "                            \"training/total_steps\": total_steps,\n",
    "                            \"training/episode\": episode\n",
    "                        }, step=total_steps)\n",
    "                \n",
    "            if episode % target_update == 0:\n",
    "                target_net.load_state_dict(main_net.state_dict())\n",
    "            \n",
    "            if epsilon > epsilon_min:\n",
    "                epsilon *= epsilon_decay\n",
    "\n",
    "            episode_rewards.append(total_reward)\n",
    "            mean_reward = np.mean(episode_rewards[-100:]) if len(episode_rewards) >= 100 else np.mean(episode_rewards)\n",
    "            \n",
    "            # Log episode metrics with loss information - using total_steps\n",
    "            episode_loss_avg = np.mean(episode_losses) if episode_losses else 0.0\n",
    "            log_episode_metrics(total_reward, mean_reward, epsilon, len(buffer), step_count, episode, step=total_steps)\n",
    "            wandb.log({\n",
    "                \"episode/avg_loss\": episode_loss_avg,\n",
    "                \"episode/num_training_steps\": len(episode_losses)\n",
    "            }, step=total_steps)\n",
    "\n",
    "            # Debug line to check epsilon logging - using total_steps\n",
    "            wandb.log({\"debug/epsilon_direct\": epsilon}, step=total_steps)\n",
    "            \n",
    "            # Basic weight logging every LOG_FREQ episodes - using total_steps\n",
    "            if episode % LOG_FREQ == 0 and episode > 0:\n",
    "                wandb.log({\"weight_logging_episode\": episode}, step=total_steps)\n",
    "                log_weight_stats(model=main_net, episode=total_steps)\n",
    "            \n",
    "            # Check stopping condition: mean reward instead of max reward\n",
    "            if mean_reward >= mean_reward_bound:\n",
    "                max_reward_so_far = max(episode_rewards) if episode_rewards else 0\n",
    "                print(f\"Environment solved in {episode} episodes! Mean reward: {mean_reward:.2f} >= {mean_reward_bound}\")\n",
    "                print(f\"Max reward achieved: {max_reward_so_far:.2f}\")\n",
    "                wandb.log({\"solved_at_episode\": episode}, step=total_steps)\n",
    "                break\n",
    "            \n",
    "            # Save training plot every 1000 episodes\n",
    "            if episode > 0 and episode % 1000 == 0:\n",
    "                save_training_plot(str(artifacts_dir), episode_rewards, episode, mean_reward_bound, \" v2\")\n",
    "            \n",
    "            # Display plot every 100 episodes\n",
    "            if episode % 100 == 0 and episode > 0:\n",
    "                avg_reward = np.mean(episode_rewards[-10:]) if len(episode_rewards) >= 10 else np.mean(episode_rewards)\n",
    "                max_reward_so_far = max(episode_rewards) if episode_rewards else 0\n",
    "                mean_rewards.append(avg_reward)\n",
    "                print(f\"Episode {episode}, Avg Reward: {avg_reward:.2f}, Mean Reward (100): {mean_reward:.2f}, Max Reward: {max_reward_so_far:.2f}, Epsilon: {epsilon:.3f}, Buffer: {len(buffer)}, Total Steps: {total_steps}\")\n",
    "                \n",
    "                display_training_plot(episode_rewards, mean_reward_bound, \" v2\")\n",
    "            \n",
    "            # Print progress every 10 episodes\n",
    "            elif episode % 10 == 0 and episode > 0:\n",
    "                avg_reward = np.mean(episode_rewards[-10:]) if len(episode_rewards) >= 10 else np.mean(episode_rewards)\n",
    "                max_reward_so_far = max(episode_rewards) if episode_rewards else 0\n",
    "                print(f\"Episode {episode}, Avg Reward: {avg_reward:.2f}, Mean Reward (100): {mean_reward:.2f}, Max Reward: {max_reward_so_far:.2f}, Epsilon: {epsilon:.3f}, Buffer: {len(buffer)}, Total Steps: {total_steps}\")\n",
    "                \n",
    "                wandb.log({\"avg_reward_10\": avg_reward}, step=total_steps)\n",
    "\n",
    "            # Save checkpoint every 10000 episodes\n",
    "            if episode % 10000 == 0:\n",
    "                save_checkpoint(str(artifacts_dir), episode, main_net, optimizer, episode_rewards, epsilon, run_id, \"pong_dqn_cnn_v2\")\n",
    "\n",
    "            episode += 1\n",
    "        \n",
    "        # Log final results\n",
    "        final_model_path = log_final_results(main_net, episode, mean_reward, episode_rewards, str(artifacts_dir), run_id, \"final_pong_dqn_cnn_v2\")\n",
    "        \n",
    "        print(f\"Training completed! All artifacts saved in: {artifacts_dir}\")\n",
    "        print(f\"Total steps taken: {total_steps}\")\n",
    "        \n",
    "        env.close()\n",
    "        wandb.finish()\n",
    "        return main_net"
   ]
  },
  {
   "cell_type": "code",
   "execution_count": 9,
   "metadata": {},
   "outputs": [
    {
     "name": "stderr",
     "output_type": "stream",
     "text": [
      "A.L.E: Arcade Learning Environment (version 0.11.2+ecc1138)\n",
      "[Powered by Stella]\n"
     ]
    },
    {
     "name": "stdout",
     "output_type": "stream",
     "text": [
      "Original frame shape: (210, 160, 3)\n",
      "Processed frame shape: (84, 84)\n",
      "Stacked frames shape: (2, 84, 84)\n",
      "Network input shape: torch.Size([1, 2, 84, 84])\n",
      "Q-values shape: torch.Size([1, 6])\n",
      "Q-values: [[ 0.04669337  0.03550746  0.03729591 -0.02613549 -0.02200529  0.02676901]]\n",
      "\n",
      "=== OPTIMIZED MODEL (v2) ===\n",
      "Architecture: CNN-DQN-v2\n",
      "Filter configuration: 32-36-20\n",
      "Total parameters: 1,056,686\n",
      "Conv parameters: 29,096 (2.8%)\n",
      "FC parameters: 1,027,590 (97.2%)\n",
      "Model size: 4.03 MB\n",
      "\n",
      "=== COMPARISON WITH ORIGINAL ===\n",
      "Original parameters: 3,354,278\n",
      "Optimized parameters: 1,056,686\n",
      "Parameter reduction: 2,297,592 (68.5%)\n",
      "Expected speedup: 3.2x\n"
     ]
    }
   ],
   "source": [
    "# Test optimized CNN architecture and compare with original\n",
    "env = gym.make('PongNoFrameskip-v4')\n",
    "state, _ = env.reset()\n",
    "\n",
    "print(f\"Original frame shape: {state.shape}\")\n",
    "\n",
    "processed = preprocess_frame(state)\n",
    "print(f\"Processed frame shape: {processed.shape}\")\n",
    "\n",
    "frame_stack = FrameStack(2)\n",
    "stacked = frame_stack.reset(state)\n",
    "print(f\"Stacked frames shape: {stacked.shape}\")\n",
    "\n",
    "device = torch.device(\"cuda\" if torch.cuda.is_available() else \"cpu\")\n",
    "cnn_net_v2 = ConvDQN(input_channels=2, action_size=env.action_space.n).to(device)\n",
    "\n",
    "with torch.no_grad():\n",
    "    state_tensor = torch.FloatTensor(stacked).unsqueeze(0).to(device)\n",
    "    q_values = cnn_net_v2(state_tensor)\n",
    "    print(f\"Network input shape: {state_tensor.shape}\")\n",
    "    print(f\"Q-values shape: {q_values.shape}\")\n",
    "    print(f\"Q-values: {q_values.cpu().numpy()}\")\n",
    "\n",
    "# Calculate and compare parameters\n",
    "total_params_v2 = sum(p.numel() for p in cnn_net_v2.parameters())\n",
    "conv_params_v2 = sum(p.numel() for name, p in cnn_net_v2.named_parameters() if 'conv' in name)\n",
    "fc_params_v2 = sum(p.numel() for name, p in cnn_net_v2.named_parameters() if 'fc' in name)\n",
    "\n",
    "print(f\"\\n=== OPTIMIZED MODEL (v2) ===\")\n",
    "print(f\"Architecture: {ARCHITECTURE_NAME}\")\n",
    "print(f\"Filter configuration: {MODEL_FILTERS}\")\n",
    "print(f\"Total parameters: {total_params_v2:,}\")\n",
    "print(f\"Conv parameters: {conv_params_v2:,} ({conv_params_v2/total_params_v2*100:.1f}%)\")\n",
    "print(f\"FC parameters: {fc_params_v2:,} ({fc_params_v2/total_params_v2*100:.1f}%)\")\n",
    "print(f\"Model size: {total_params_v2 * 4 / (1024*1024):.2f} MB\")\n",
    "\n",
    "# Original model comparison (from original training)\n",
    "original_params = 3354278  # From original training\n",
    "reduction_pct = (original_params - total_params_v2) / original_params * 100\n",
    "\n",
    "print(f\"\\n=== COMPARISON WITH ORIGINAL ===\")\n",
    "print(f\"Original parameters: {original_params:,}\")\n",
    "print(f\"Optimized parameters: {total_params_v2:,}\")\n",
    "print(f\"Parameter reduction: {original_params - total_params_v2:,} ({reduction_pct:.1f}%)\")\n",
    "print(f\"Expected speedup: {original_params / total_params_v2:.1f}x\")\n",
    "\n",
    "env.close()"
   ]
  },
  {
   "cell_type": "code",
   "execution_count": 10,
   "metadata": {},
   "outputs": [
    {
     "data": {
      "image/png": "[encoded data removed]",
      "text/plain": [
       "<Figure size 1200x500 with 2 Axes>"
      ]
     },
     "metadata": {},
     "output_type": "display_data"
    },
    {
     "name": "stdout",
     "output_type": "stream",
     "text": [
      "Episode 31210, Avg Reward: 18.50, Mean Reward (100): 18.61, Max Reward: 21.00, Epsilon: 0.010, Buffer: 100000, Total Steps: 82241970\n",
      "Episode 31220, Avg Reward: 19.40, Mean Reward (100): 18.61, Max Reward: 21.00, Epsilon: 0.010, Buffer: 100000, Total Steps: 82259983\n",
      "Episode 31230, Avg Reward: 17.90, Mean Reward (100): 18.56, Max Reward: 21.00, Epsilon: 0.010, Buffer: 100000, Total Steps: 82278854\n",
      "Episode 31240, Avg Reward: 20.50, Mean Reward (100): 18.76, Max Reward: 21.00, Epsilon: 0.010, Buffer: 100000, Total Steps: 82295794\n",
      "Episode 31250, Avg Reward: 19.90, Mean Reward (100): 18.98, Max Reward: 21.00, Epsilon: 0.010, Buffer: 100000, Total Steps: 82313280\n",
      "Episode 31260, Avg Reward: 19.30, Mean Reward (100): 19.07, Max Reward: 21.00, Epsilon: 0.010, Buffer: 100000, Total Steps: 82331183\n",
      "Episode 31270, Avg Reward: 20.10, Mean Reward (100): 19.23, Max Reward: 21.00, Epsilon: 0.010, Buffer: 100000, Total Steps: 82348284\n",
      "Episode 31280, Avg Reward: 20.50, Mean Reward (100): 19.29, Max Reward: 21.00, Epsilon: 0.010, Buffer: 100000, Total Steps: 82365109\n",
      "Episode 31290, Avg Reward: 19.70, Mean Reward (100): 19.48, Max Reward: 21.00, Epsilon: 0.010, Buffer: 100000, Total Steps: 82382591\n"
     ]
    },
    {
     "name": "stderr",
     "output_type": "stream",
     "text": [
      "2025/10/10 12:53:47 WARNING mlflow.models.model: `artifact_path` is deprecated. Please use `name` instead.\n"
     ]
    },
    {
     "name": "stdout",
     "output_type": "stream",
     "text": [
      "Environment solved in 31292 episodes! Mean reward: 19.50 >= 19.5\n",
      "Max reward achieved: 21.00\n"
     ]
    },
    {
     "name": "stderr",
     "output_type": "stream",
     "text": [
      "2025/10/10 12:53:50 WARNING mlflow.utils.requirements_utils: Found torch version (2.10.0.dev20250930+cu128) contains a local version label (+cu128). MLflow logged a pip requirement for this package as 'torch==2.10.0.dev20250930' without the local version label to make it installable from PyPI. To specify pip requirements containing local version labels, please use `conda_env` or `pip_requirements`.\n",
      "2025/10/10 12:53:54 WARNING mlflow.utils.requirements_utils: Found torch version (2.10.0.dev20250930+cu128) contains a local version label (+cu128). MLflow logged a pip requirement for this package as 'torch==2.10.0.dev20250930' without the local version label to make it installable from PyPI. To specify pip requirements containing local version labels, please use `conda_env` or `pip_requirements`.\n",
      "\u001b[31m2025/10/10 12:53:54 WARNING mlflow.models.model: Model logged without a signature and input example. Please set `input_example` parameter when logging the model to auto infer the model signature.\u001b[0m\n",
      "\u001b[34m\u001b[1mwandb\u001b[0m: \u001b[32m\u001b[41mERROR\u001b[0m The nbformat package was not found. It is required to save notebook history.\n"
     ]
    },
    {
     "name": "stdout",
     "output_type": "stream",
     "text": [
      "Training completed! All artifacts saved in: /home/bmartins/dev/rl_study/artifacts/run_19ced322175f4bcd886ed9089e5bff78\n",
      "Total steps taken: 82386085\n"
     ]
    },
    {
     "data": {
      "text/html": [],
      "text/plain": [
       "<IPython.core.display.HTML object>"
      ]
     },
     "metadata": {},
     "output_type": "display_data"
    },
    {
     "data": {
      "text/html": [
       "<br>    <style><br>        .wandb-row {<br>            display: flex;<br>            flex-direction: row;<br>            flex-wrap: wrap;<br>            justify-content: flex-start;<br>            width: 100%;<br>        }<br>        .wandb-col {<br>            display: flex;<br>            flex-direction: column;<br>            flex-basis: 100%;<br>            flex: 1;<br>            padding: 10px;<br>        }<br>    </style><br><div class=\"wandb-row\"><div class=\"wandb-col\"><h3>Run history:</h3><br/><table class=\"wandb\"><tr><td>avg_reward_10</td><td>▁▁▁▁▁▁▁▁▁▂▂▂▂▃▂▃▃▄▃▃▃▂▂▃▃▄▄▅▆▆▇▆▇▇▆▇█▇██</td></tr><tr><td>bias_norms/conv.0.bias</td><td>▁▁▂▂▂▂▂▂▃▃▃▃▄▄▄▄▄▅▅▅▅▅▅▅▅▆▆▆▆▆▇▇▇▇▇▇▇▇▇█</td></tr><tr><td>bias_norms/conv.2.bias</td><td>▁▁▁▁▁▂▂▂▂▂▃▃▃▃▃▄▄▄▄▄▅▅▅▅▅▆▆▆▆▆▇▇▇▇▇▇████</td></tr><tr><td>bias_norms/conv.4.bias</td><td>▁▂▂▂▂▂▂▂▂▂▂▂▂▂▂▂▂▂▂▃▃▃▃▃▃▃▃▄▄▅▆▆▆▆▆▇▇▇▇█</td></tr><tr><td>bias_norms/fc.0.bias</td><td>▁▁▁▁▂▂▃▃▃▄▅▅▅▅▆▆▆▆▆▇▇▇▇▇▇▇▇▇▇▇▇▇▇▇▇█████</td></tr><tr><td>bias_norms/fc.2.bias</td><td>▁▂▃▃▄▅▅▅▄▄▄▄▄▃▃▂▃▂▂▃▃▂▃▃▃▄▄▄▄▄▆▇▇▇▇▇███▇</td></tr><tr><td>debug/epsilon_direct</td><td>█▁▁▁▁▁▁▁▁▁▁▁▁▁▁▁▁▁▁▁▁▁▁▁▁▁▁▁▁▁▁▁▁▁▁▁▁▁▁▁</td></tr><tr><td>episode/avg_loss</td><td>▁▁▁▁▁▂▂▂▁▁▂▂▃▃▃▄▄▄▅▆▆▅█▆▅▆▆▅▅▄▄▄▅▅▄▂▃▂▃▂</td></tr><tr><td>episode/num_training_steps</td><td>▁▁▁▁▁▁▁▂▂▃▂▂▂▅▅▆▆▇▅▇▇▅▅▆▅██▇▆▆▅▅▅▅▅▄▆▃▃▃</td></tr><tr><td>final_episode</td><td>▁</td></tr><tr><td>final_mean_reward</td><td>▁</td></tr><tr><td>grad_norms/conv.0.bias</td><td>▁▁▁▁▂▂▂▃▂▂▂▃▄▄▃▁▂▂▂█▃▁▁▂▁▃▂▆▂▂▂▁▂▂▂▂▁▁▂▅</td></tr><tr><td>grad_norms/conv.0.weight</td><td>▁▁▁▁▁▂▂▂▂▃▃▅█▂▂▁▃▂▂▁▃▂▂▂▃▂▃▂▃▂▂▁▂▃▂▂▂▂▃▂</td></tr><tr><td>grad_norms/conv.2.bias</td><td>▁▁▁▁▁▂▁▂▅▃▂▂▂▅▅▄▃▃▆▂▂▂▄▃▃▄▂▇▂▃▁▃▄█▁▂▇▂▂▂</td></tr><tr><td>grad_norms/conv.2.weight</td><td>▁▁▁▁▁▁▁▁▂▂▁▃▃▂▂▂▁▂▁▄▂▂▂▂▂▂▁▆▁█▁▂▃▃▂▂▁▁▂▃</td></tr><tr><td>grad_norms/conv.4.bias</td><td>▁▁▁▁▂▂▃▃▄▃▃▂▆▃▅▄▂▃▃▃▃▂▃▄▂▂▂▅▂▂▃▂▂▂▂█▃▂▃▂</td></tr><tr><td>grad_norms/conv.4.weight</td><td>▁▂▁▂▂▂▄▂▃▂█▃▃▆▄▃▃▄▄▃▃▄▂▂▄▄▂▆▄▃▃▂▃▃▂▃▂▂▄▄</td></tr><tr><td>grad_norms/fc.0.bias</td><td>▁▂▂▄▅▄▂▃▃▇▃▆▄▂█▁▃▄▃▆▂▃▃▆▂▂▂▃▂▄▃▂▂▂▆▁▄▁▃▁</td></tr><tr><td>grad_norms/fc.0.weight</td><td>▁▁▁▁▁▁▁▁▁▁▂▂▂▂▂▃▃▂▃▅▅▃█▅▃▄▃▄█▂▂▅▁▂▅▂█▂▂▂</td></tr><tr><td>grad_norms/fc.2.bias</td><td>▁▁▁▁▁▁▂▁█▃▂▃▂▅▂▃▃▂▃▂▃▂▂▄▃▂▂▂▂▃▃▂▂▅▃▃▂▃▂▂</td></tr><tr><td>grad_norms/fc.2.weight</td><td>▁▁▁▁▂▂▁▂▂▃▂▂▃▂▂▄▄▄▄▄▇▄▅▅▇▆█▄▇▃▆▄▅▆▇▇▅▄▄▃</td></tr><tr><td>loss</td><td>▁▁▁▁▁▁▁▁▂▂▂▃▁▃▅▃█▂▂▃▄▄▅▅▅▂▃▃▃▂▆▂▃▂▂▇▂▂▂▂</td></tr><tr><td>model_info/conv_parameters</td><td>▁</td></tr><tr><td>model_info/conv_percentage</td><td>▁</td></tr><tr><td>model_info/fc_parameters</td><td>▁</td></tr><tr><td>model_info/fc_percentage</td><td>▁</td></tr><tr><td>model_info/model_size_mb</td><td>▁</td></tr><tr><td>model_info/total_parameters</td><td>▁</td></tr><tr><td>model_info/trainable_parameters</td><td>▁</td></tr><tr><td>solved_at_episode</td><td>▁</td></tr><tr><td>step</td><td>▁▁▂▃▃▃▃▃▄▄▄▄▄▄▄▄▅▅▅▅▅▅▅▅▅▅▅▆▆▆▆▆▆▇▇▇▇▇██</td></tr><tr><td>system/buffer_size</td><td>▁███████████████████████████████████████</td></tr><tr><td>system/buffer_utilization</td><td>▁▁▁▁▁▁▁▁▁▁▁▁▁▁▁▁▁▁▁▁▁▁▁▁▁▁▁▁▁▁▁▁▁▁▁▁▁▁▁▁</td></tr><tr><td>total_episodes</td><td>▁</td></tr><tr><td>training/episode</td><td>▁▁▂▂▂▂▃▃▃▃▄▄▄▄▄▄▅▅▅▅▅▅▅▅▆▆▇▇▇▇▇▇▇▇▇█████</td></tr><tr><td>training/episode_length</td><td>▁▁▁▁▁▁▁▁▁▂▂▂▁▂▂▃▅▆▄▆▅▆▅▅█▆▆▄▅▅▆▅▃▃▂▃▃▂▂▃</td></tr><tr><td>training/episode_reward</td><td>▁▁▁▁▁▁▁▁▁▁▂▁▂▂▃▃▂▃▃▂▃▂▅▄▂▅▅▃▆▄▆▆▇▆▇▇▇███</td></tr><tr><td>training/epsilon</td><td>█▁▁▁▁▁▁▁▁▁▁▁▁▁▁▁▁▁▁▁▁▁▁▁▁▁▁▁▁▁▁▁▁▁▁▁▁▁▁▁</td></tr><tr><td>training/mean_reward_100</td><td>▁▁▁▁▁▁▁▁▁▁▁▂▂▁▂▂▂▃▃▃▃▃▃▃▃▄▆▆▆▅▆▇▇▇▇▇▆▆▇█</td></tr><tr><td>training/total_steps</td><td>▁▂▂▂▂▂▃▃▃▃▄▄▄▄▅▅▅▅▅▅▆▆▆▆▆▆▇▇▇▇▇▇▇▇██████</td></tr><tr><td>weight_logging_episode</td><td>▁▁▁▁▁▂▂▂▂▂▂▂▃▃▃▃▃▃▃▃▄▄▄▄▄▅▅▅▅▅▆▆▆▇▇▇▇▇██</td></tr><tr><td>weight_norms/conv.0.weight</td><td>▁▂▂▂▃▄▄▄▄▄▄▅▅▅▅▅▅▅▆▆▆▆▆▆▆▆▆▆▆▆▆▇▇▇▇█████</td></tr><tr><td>weight_norms/conv.2.weight</td><td>▁▁▁▂▂▂▂▃▃▃▃▃▃▄▄▄▅▅▅▅▅▅▆▆▆▆▆▆▆▆▆▆▇▇▇▇▇▇██</td></tr><tr><td>weight_norms/conv.4.weight</td><td>▁▁▁▂▂▂▂▂▂▂▂▃▃▃▃▃▃▃▃▃▄▄▄▄▄▅▅▅▅▅▅▆▆▆▇▇▇▇▇█</td></tr><tr><td>weight_norms/fc.0.weight</td><td>▁▁▁▂▂▂▃▃▃▄▄▄▅▅▅▅▅▅▅▆▆▆▆▆▆▇▇▇▇▇▇█████████</td></tr><tr><td>weight_norms/fc.2.weight</td><td>▁▄▅▅▅▅▇███▇▇▇▇▇▇▇▇▇▇▇▇▆▆▆▆▆▆▆▆▆▆▆▆▆▆▆▆▆▆</td></tr><tr><td>weight_stats/conv.0.bias_max</td><td>▂▂▂▂▂▁▁▁▁▁▁▁▁▁▁▁▁▁▁▁▁▁▁▁▁▃▃▃▃▄▄▆▆▇▇▇█▇██</td></tr><tr><td>weight_stats/conv.0.bias_mean</td><td>████▇▇▇▇▇▆▆▆▆▅▅▃▃▃▃▃▃▃▃▃▂▂▂▂▂▂▂▂▂▂▂▁▁▁▁▁</td></tr><tr><td>weight_stats/conv.0.bias_min</td><td>█████▇▇▇▇▇▆▆▆▆▆▅▅▅▄▄▃▃▃▂▂▂▂▂▂▂▂▂▂▂▁▁▁▁▁▁</td></tr><tr><td>weight_stats/conv.0.bias_norm</td><td>▁▁▂▂▂▂▂▂▂▂▃▃▃▄▄▄▄▄▅▅▅▅▆▆▆▇▇▇▇▇▇▇▇▇▇█████</td></tr><tr><td>weight_stats/conv.0.bias_sparsity</td><td>▁▁▁▁▁▁▁▁▁▁▁▁▁▁▁▁▁▁▁▁▁▁▁▁▁▁▁▁▁▁▁▁▁▁▁▁▁▁▁▁</td></tr><tr><td>weight_stats/conv.0.bias_std</td><td>▁▁▁▁▁▂▂▂▂▂▂▂▃▃▃▄▄▄▄▄▄▄▅▅▅▆▆▇▇▇▇▇▇▇▇█████</td></tr><tr><td>weight_stats/conv.0.weight_max</td><td>▁▂▂▂▂▂▃▃▃▃▃▄▅▅▄▅▅▆▅▅▆▆▆▆▆▆▇▇▇▇▇▇▇██▇▇▇██</td></tr><tr><td>weight_stats/conv.0.weight_mean</td><td>█▅▅▅▅▅▅▅▄▄▄▄▃▃▃▃▃▃▃▃▂▂▂▂▂▂▂▂▂▂▁▁▁▁▁▁▁▁▁▁</td></tr><tr><td>weight_stats/conv.0.weight_min</td><td>█████▇▇▇▇▇▇▇▇▇▆▅▅▄▄▄▃▃▃▃▃▃▃▃▃▃▃▂▂▂▂▂▂▁▁▁</td></tr><tr><td>weight_stats/conv.0.weight_norm</td><td>▁▁▂▂▂▂▂▃▃▃▄▄▄▄▄▄▄▅▅▅▆▆▆▆▆▇▇▇▇▇▇▇▇▇▇█████</td></tr><tr><td>weight_stats/conv.0.weight_sparsity</td><td>▁▁▁▁▁▁▁▁▁▁▁▁▁▁▁▁▁▁▁▁▁▁▁▁▁▁▁▁▁▁▁▁▁▁▁▁▁▁▁▁</td></tr><tr><td>weight_stats/conv.0.weight_std</td><td>▁▁▁▂▂▂▂▃▃▃▃▃▄▄▄▄▄▅▅▅▆▆▆▆▆▆▆▆▆▇▇▇▇▇▇█████</td></tr><tr><td>weight_stats/conv.2.bias_max</td><td>▂▄▆▇█▆▇▇▇█▇▇▆▇▇▇▇▅▃▄▄▃▃▅▅▄▄▄▃▃▃▁▁▁▂▁▂▂▄▄</td></tr><tr><td>weight_stats/conv.2.bias_mean</td><td>██████████▇▇▇▇▇▆▆▆▆▆▆▅▅▅▅▄▄▄▃▃▂▂▂▂▂▁▁▁▁▁</td></tr><tr><td>weight_stats/conv.2.bias_min</td><td>█████████▇▇▇▇▇▇▇▆▆▆▆▅▅▅▄▄▄▄▄▃▃▃▃▃▂▂▁▁▁▁▁</td></tr><tr><td>weight_stats/conv.2.bias_norm</td><td>▁▁▁▁▁▁▁▁▁▂▂▂▂▂▂▂▂▂▂▃▃▃▅▅▅▅▅▆▆▇▇▇▇▇▇▇████</td></tr><tr><td>weight_stats/conv.2.bias_sparsity</td><td>▁▁▁▁▁▁▁▁▁▁▁▁▁▁▁▁▁▁▁▁▁▁▁▁▁▁▁▁▁▁▁▁▁▁▁▁▁▁▁▁</td></tr><tr><td>weight_stats/conv.2.bias_std</td><td>▁▁▁▁▁▁▁▁▁▂▂▂▂▂▂▂▂▂▂▂▃▃▃▃▄▄▄▄▄▄▆▆▆▇▇▇▇███</td></tr><tr><td>weight_stats/conv.2.weight_max</td><td>▁▁▁▁▂▂▂▃▃▃▃▃▃▃▃▃▃▃▃▄▅▅▅▅▅▆▆▆▆▆▆▆▆▆▆▇▇▇██</td></tr><tr><td>weight_stats/conv.2.weight_mean</td><td>███████████████▇▇▇▇▇▇▆▆▆▆▆▆▆▅▅▄▄▄▄▄▃▂▂▂▁</td></tr><tr><td>weight_stats/conv.2.weight_min</td><td>████▇▆▆▆▆▆▆▅▅▅▅▄▄▄▄▄▄▄▄▄▄▂▂▂▂▂▂▁▁▁▁▁▁▁▁▁</td></tr><tr><td>weight_stats/conv.2.weight_norm</td><td>▁▁▁▁▁▁▁▂▂▂▂▂▂▂▂▂▂▂▂▂▃▃▃▃▄▄▅▅▅▅▆▆▆▆▇▇████</td></tr><tr><td>weight_stats/conv.2.weight_sparsity</td><td>█▁▁▁▁▁▁▁▁▁▁▁▁▁▁▁▁▁▁▁▁▁▁▁▁▁▁▁▁▁▁▁▁▁▁▁▁▁▁▁</td></tr><tr><td>weight_stats/conv.2.weight_std</td><td>▁▁▁▁▁▂▂▂▂▂▂▂▂▂▃▃▃▃▃▃▄▄▄▅▅▅▅▅▅▆▆▆▆▆▇▇████</td></tr><tr><td>weight_stats/conv.4.bias_max</td><td>▅▅▃▄▃▃▃▄▄▇▇▇▇▇▇▇▇█▇█▇▇▇▆▅▆▇▆▇▄▂▃▂▄▄▁▁▁▂▁</td></tr><tr><td>weight_stats/conv.4.bias_mean</td><td>████▇▇▇▇▇▇▇▇████▇▇▇▇▇▇▇▇▇▇▆▆▆▆▄▄▄▃▃▃▃▂▂▁</td></tr><tr><td>weight_stats/conv.4.bias_min</td><td>██████████▇▇▇▇▇▇▇▇▇▇▆▆▆▆▆▆▅▅▅▅▄▄▄▃▃▃▃▂▁▁</td></tr><tr><td>weight_stats/conv.4.bias_norm</td><td>▁▁▁▁▁▂▂▂▂▂▂▂▂▂▂▂▂▂▂▂▂▂▂▂▃▃▃▃▃▃▄▄▅▆▇▇▇███</td></tr><tr><td>weight_stats/conv.4.bias_sparsity</td><td>▁▁▁▁▁▁▁▁▁▁▁▁▁▁▁▁▁▁▁▁▁▁▁▁▁▁▁▁▁▁▁▁▁▁▁▁▁▁▁▁</td></tr><tr><td>weight_stats/conv.4.bias_std</td><td>▁▁▁▁▁▁▁▁▁▁▂▂▂▂▂▂▂▂▂▂▃▃▃▃▃▃▃▃▄▄▅▅▅▅▅▆▆▆▆█</td></tr><tr><td>weight_stats/conv.4.weight_max</td><td>▁▁▁▁▁▁▁▂▂▂▂▂▂▂▁▂▂▂▂▃▄▄▅▅▅▅▆▆▇▇██████████</td></tr><tr><td>weight_stats/conv.4.weight_mean</td><td>█████▇▇▇▇▇▇▇▇▇▇▇▆▆▆▆▆▆▆▆▆▆▅▅▅▅▅▅▄▄▃▂▂▁▁▁</td></tr><tr><td>weight_stats/conv.4.weight_min</td><td>██▇▇▇▇▇▇▇▇▇▇▆▆▆▅▄▄▄▄▄▄▄▄▃▂▁▁▂▁▁▁▁▁▁▁▁▁▂▂</td></tr><tr><td>weight_stats/conv.4.weight_norm</td><td>▁▁▂▂▂▂▂▂▂▂▂▂▃▃▃▃▃▃▃▄▄▄▄▅▅▅▅▅▆▆▆▇▇▇▇█████</td></tr><tr><td>weight_stats/conv.4.weight_sparsity</td><td>▁▁█▁▁▁▁▁▁▁▁▁▁▁▁▁▁▁▁▁▁▁▁▁▁▁▁▁▁▁▁▁▁▁▁▁▁▁▁▁</td></tr><tr><td>weight_stats/conv.4.weight_std</td><td>▁▁▂▂▂▂▂▂▂▂▃▃▃▃▃▃▃▄▄▄▅▅▅▅▅▅▅▆▆▆▆▆▇▇██████</td></tr><tr><td>weight_stats/fc.0.bias_max</td><td>▁▁▁▁▁▁▁▂▂▂▂▂▃▃▃▄▅▅▆▇▆▆▆▆▆▆▆▆▇▇▆▇▇▇▇█████</td></tr><tr><td>weight_stats/fc.0.bias_mean</td><td>███▇▇▇▇▇▇▆▆▅▄▄▄▄▄▄▃▃▃▃▃▃▃▂▂▂▂▂▂▁▁▁▁▁▁▁▁▁</td></tr><tr><td>weight_stats/fc.0.bias_min</td><td>█████▇▇▇▇▇▆▆▆▆▆▅▄▄▄▄▄▄▄▄▄▄▄▃▃▃▃▂▁▁▂▁▁▁▁▁</td></tr><tr><td>weight_stats/fc.0.bias_norm</td><td>▁▁▁▂▂▂▂▂▂▃▄▄▄▄▅▅▅▆▆▆▆▆▇▇▇▇▇▇▇▇▇▇████████</td></tr><tr><td>weight_stats/fc.0.bias_sparsity</td><td>▁▁▁▁▁▁▁▁▁▁▁▁▁▁▁▁▁▁▁▁▁▁▁▁▁▁▁▁▁▁▁▁▁▁▁▁▁▁▁▁</td></tr><tr><td>weight_stats/fc.0.bias_std</td><td>▁▁▁▁▂▂▂▂▃▃▄▅▅▅▆▆▆▆▆▆▇▇▇▇▇▇▇▇▇▇▇▇▇▇██████</td></tr><tr><td>weight_stats/fc.0.weight_max</td><td>▁▁▁▁▁▁▁▁▁▁▂▂▂▂▂▃▃▃▄▄▄▅▅▅▆▆▆▆▆▆▆▇▆▆▆▇▇▇▇█</td></tr><tr><td>weight_stats/fc.0.weight_mean</td><td>██▇▇▇▇▆▆▆▆▅▄▄▄▄▄▄▃▃▃▃▃▃▃▃▂▂▂▂▂▂▂▁▁▁▁▁▁▁▁</td></tr><tr><td>weight_stats/fc.0.weight_min</td><td>███████████▇▇▇▇▇▇▇▇▇▆▆▆▆▆▆▆▆▅▄▃▃▂▂▂▁▁▁▁▁</td></tr><tr><td>weight_stats/fc.0.weight_norm</td><td>▁▁▁▁▁▁▁▁▁▁▂▂▂▃▃▃▃▃▄▄▅▅▆▆▆▇▇▇▇▇██████████</td></tr><tr><td>weight_stats/fc.0.weight_sparsity</td><td>█▆▇▄▄▅▆▅▂▃▂▁▁▂▁▂▂▁▁▂▁▁▁▁▁▁▁▁▁▁▂▁▂▁▂▁▁▁▁▁</td></tr><tr><td>weight_stats/fc.0.weight_std</td><td>▁▁▁▁▁▁▁▁▁▁▁▂▂▄▄▅▅▅▆▆▆▆▇▇▇▇██████████████</td></tr><tr><td>weight_stats/fc.2.bias_max</td><td>▃▂▂▂▂▂▂▂▂▁▁▁▁▁▁▁▁▁▁▂▂▂▃▃▅▅▅▆▆▆▇▇▇███▇▇▆▇</td></tr><tr><td>weight_stats/fc.2.bias_mean</td><td>▃▃▂▂▂▂▂▁▁▁▁▁▁▂▂▂▂▂▂▃▃▄▅▅▆███████▇▇▇▇▇▇▇▇</td></tr><tr><td>weight_stats/fc.2.bias_min</td><td>▃▃▃▃▃▃▃▃▃▃▃▂▁▁▁▂▂▂▂▂▂▂▂▂▃▄▇███████▇▇▇███</td></tr><tr><td>weight_stats/fc.2.bias_norm</td><td>▁▁▁▁▁▁▁▁▁▃▃▃▃▄▄▃▃▄▄▄▄▃▂▂▁▂▂▃▃▃▆▆▇███▇▇▆▇</td></tr><tr><td>weight_stats/fc.2.bias_sparsity</td><td>▁▁▁▁▁▁▁▁▁▁▁▁▁▁▁▁▁▁▁▁▁▁▁▁▁▁▁▁▁▁▁▁▁▁▁▁▁▁▁▁</td></tr><tr><td>weight_stats/fc.2.bias_std</td><td>▁▁▁▁▁▂▂▁▂▂▃▃▃▂▁▂▃▂▃▃▅▅▅▆▇▇▇█▇▇▅▅▅▄▃▄▇▆▅▃</td></tr><tr><td>weight_stats/fc.2.weight_max</td><td>▁▄▅▅▅▅▅▄▄▄▄▃▃▅▄▇▆▆▇▆█▆▅▅▅▅▅▅▅▆▅▅▅▅▅▅▅▅▅▅</td></tr><tr><td>weight_stats/fc.2.weight_mean</td><td>▅▆▆▆▆▅▅▅▅▄▁▁▁▁▂▅▅▆▆▇▇███████▇█▇▇▇▇▇▆▆▆▆▆</td></tr><tr><td>weight_stats/fc.2.weight_min</td><td>███▇▆▅▄▃▃▄▅▅▅▂▁▂▂▂▂▂▄▄▄▄▄▄▄▄▄▄▄▄▃▃▃▄▄▄▄▄</td></tr><tr><td>weight_stats/fc.2.weight_norm</td><td>▁▂▂▃▃▃▃▃▄▄▅▅▅▅▅█████▇▇▇▇▇▆▆▆▆▆▆▆▆▆▆▆▆▆▆▆</td></tr><tr><td>weight_stats/fc.2.weight_sparsity</td><td>▁▁▁▁▁▁▁▁▁███████████████████████████████</td></tr><tr><td>weight_stats/fc.2.weight_std</td><td>▁▂▂▂▄▅▅▅▅▅▆▇▇███▇▇▇▇▇▇▆▆▆▆▆▆▆▆▆▆▆▆▆▆▆▆▆▆</td></tr></table><br/></div><div class=\"wandb-col\"><h3>Run summary:</h3><br/><table class=\"wandb\"><tr><td>avg_reward_10</td><td>19.7</td></tr><tr><td>bias_norms/conv.0.bias</td><td>3.73035</td></tr><tr><td>bias_norms/conv.2.bias</td><td>11.3369</td></tr><tr><td>bias_norms/conv.4.bias</td><td>3.43171</td></tr><tr><td>bias_norms/fc.0.bias</td><td>18.94303</td></tr><tr><td>bias_norms/fc.2.bias</td><td>0.45449</td></tr><tr><td>debug/epsilon_direct</td><td>0.00999</td></tr><tr><td>episode/avg_loss</td><td>0.00056</td></tr><tr><td>episode/num_training_steps</td><td>1638</td></tr><tr><td>final_episode</td><td>31292</td></tr><tr><td>final_mean_reward</td><td>19.5</td></tr><tr><td>grad_norms/conv.0.bias</td><td>0.01012</td></tr><tr><td>grad_norms/conv.0.weight</td><td>0.03946</td></tr><tr><td>grad_norms/conv.2.bias</td><td>0.01024</td></tr><tr><td>grad_norms/conv.2.weight</td><td>0.02257</td></tr><tr><td>grad_norms/conv.4.bias</td><td>0.00991</td></tr><tr><td>grad_norms/conv.4.weight</td><td>0.02545</td></tr><tr><td>grad_norms/fc.0.bias</td><td>0.00811</td></tr><tr><td>grad_norms/fc.0.weight</td><td>0.10549</td></tr><tr><td>grad_norms/fc.2.bias</td><td>0.01106</td></tr><tr><td>grad_norms/fc.2.weight</td><td>0.08202</td></tr><tr><td>loss</td><td>0.00045</td></tr><tr><td>model_info/conv_parameters</td><td>29096</td></tr><tr><td>model_info/conv_percentage</td><td>2.75351</td></tr><tr><td>model_info/fc_parameters</td><td>1027590</td></tr><tr><td>model_info/fc_percentage</td><td>97.24649</td></tr><tr><td>model_info/model_size_mb</td><td>4.03094</td></tr><tr><td>model_info/total_parameters</td><td>1056686</td></tr><tr><td>model_info/trainable_parameters</td><td>1056686</td></tr><tr><td>solved_at_episode</td><td>31292</td></tr><tr><td>step</td><td>312921553</td></tr><tr><td>system/buffer_size</td><td>100000</td></tr><tr><td>system/buffer_utilization</td><td>1</td></tr><tr><td>total_episodes</td><td>31293</td></tr><tr><td>training/episode</td><td>31292</td></tr><tr><td>training/episode_length</td><td>1638</td></tr><tr><td>training/episode_reward</td><td>21</td></tr><tr><td>training/epsilon</td><td>0.00999</td></tr><tr><td>training/mean_reward_100</td><td>19.5</td></tr><tr><td>training/total_steps</td><td>82386000</td></tr><tr><td>weight_logging_episode</td><td>31200</td></tr><tr><td>weight_norms/conv.0.weight</td><td>25.53666</td></tr><tr><td>weight_norms/conv.2.weight</td><td>90.65511</td></tr><tr><td>weight_norms/conv.4.weight</td><td>62.97998</td></tr><tr><td>weight_norms/fc.0.weight</td><td>607.39722</td></tr><tr><td>weight_norms/fc.2.weight</td><td>13.62314</td></tr><tr><td>weight_stats/conv.0.bias_max</td><td>0.38552</td></tr><tr><td>weight_stats/conv.0.bias_mean</td><td>-0.33884</td></tr><tr><td>weight_stats/conv.0.bias_min</td><td>-2.74619</td></tr><tr><td>weight_stats/conv.0.bias_norm</td><td>3.73064</td></tr><tr><td>weight_stats/conv.0.bias_sparsity</td><td>0</td></tr><tr><td>weight_stats/conv.0.bias_std</td><td>0.56578</td></tr><tr><td>weight_stats/conv.0.weight_max</td><td>2.0705</td></tr><tr><td>weight_stats/conv.0.weight_mean</td><td>-0.01134</td></tr><tr><td>weight_stats/conv.0.weight_min</td><td>-2.63368</td></tr><tr><td>weight_stats/conv.0.weight_norm</td><td>25.49686</td></tr><tr><td>weight_stats/conv.0.weight_sparsity</td><td>0</td></tr><tr><td>weight_stats/conv.0.weight_std</td><td>0.39823</td></tr><tr><td>weight_stats/conv.2.bias_max</td><td>0.08014</td></tr><tr><td>weight_stats/conv.2.bias_mean</td><td>-1.03581</td></tr><tr><td>weight_stats/conv.2.bias_min</td><td>-9.54855</td></tr><tr><td>weight_stats/conv.2.bias_norm</td><td>11.30828</td></tr><tr><td>weight_stats/conv.2.bias_sparsity</td><td>0</td></tr><tr><td>weight_stats/conv.2.bias_std</td><td>1.57456</td></tr><tr><td>weight_stats/conv.2.weight_max</td><td>6.09691</td></tr><tr><td>weight_stats/conv.2.weight_mean</td><td>-0.07589</td></tr><tr><td>weight_stats/conv.2.weight_min</td><td>-6.43881</td></tr><tr><td>weight_stats/conv.2.weight_norm</td><td>90.60378</td></tr><tr><td>weight_stats/conv.2.weight_sparsity</td><td>0</td></tr><tr><td>weight_stats/conv.2.weight_std</td><td>0.66303</td></tr><tr><td>weight_stats/conv.4.bias_max</td><td>0.04853</td></tr><tr><td>weight_stats/conv.4.bias_mean</td><td>-0.47624</td></tr><tr><td>weight_stats/conv.4.bias_min</td><td>-2.23611</td></tr><tr><td>weight_stats/conv.4.bias_norm</td><td>3.43619</td></tr><tr><td>weight_stats/conv.4.bias_sparsity</td><td>0</td></tr><tr><td>weight_stats/conv.4.bias_std</td><td>0.60297</td></tr><tr><td>weight_stats/conv.4.weight_max</td><td>3.44718</td></tr><tr><td>weight_stats/conv.4.weight_mean</td><td>-0.27385</td></tr><tr><td>weight_stats/conv.4.weight_min</td><td>-7.74214</td></tr><tr><td>weight_stats/conv.4.weight_norm</td><td>63.0528</td></tr><tr><td>weight_stats/conv.4.weight_sparsity</td><td>0</td></tr><tr><td>weight_stats/conv.4.weight_std</td><td>0.73385</td></tr><tr><td>weight_stats/fc.0.bias_max</td><td>1.00739</td></tr><tr><td>weight_stats/fc.0.bias_mean</td><td>-0.62079</td></tr><tr><td>weight_stats/fc.0.bias_min</td><td>-2.80504</td></tr><tr><td>weight_stats/fc.0.bias_norm</td><td>18.92927</td></tr><tr><td>weight_stats/fc.0.bias_sparsity</td><td>0</td></tr><tr><td>weight_stats/fc.0.bias_std</td><td>0.56077</td></tr><tr><td>weight_stats/fc.0.weight_max</td><td>7.03073</td></tr><tr><td>weight_stats/fc.0.weight_mean</td><td>-0.10535</td></tr><tr><td>weight_stats/fc.0.weight_min</td><td>-23.25962</td></tr><tr><td>weight_stats/fc.0.weight_norm</td><td>607.24176</td></tr><tr><td>weight_stats/fc.0.weight_sparsity</td><td>0.0</td></tr><tr><td>weight_stats/fc.0.weight_std</td><td>0.59077</td></tr><tr><td>weight_stats/fc.2.bias_max</td><td>0.2445</td></tr><tr><td>weight_stats/fc.2.bias_mean</td><td>0.1727</td></tr><tr><td>weight_stats/fc.2.bias_min</td><td>0.12817</td></tr><tr><td>weight_stats/fc.2.bias_norm</td><td>0.44058</td></tr><tr><td>weight_stats/fc.2.bias_sparsity</td><td>0</td></tr><tr><td>weight_stats/fc.2.bias_std</td><td>0.05025</td></tr><tr><td>weight_stats/fc.2.weight_max</td><td>0.63635</td></tr><tr><td>weight_stats/fc.2.weight_mean</td><td>0.00639</td></tr><tr><td>weight_stats/fc.2.weight_min</td><td>-0.8296</td></tr><tr><td>weight_stats/fc.2.weight_norm</td><td>13.63751</td></tr><tr><td>weight_stats/fc.2.weight_sparsity</td><td>0.00033</td></tr><tr><td>weight_stats/fc.2.weight_std</td><td>0.24597</td></tr></table><br/></div></div>"
      ],
      "text/plain": [
       "<IPython.core.display.HTML object>"
      ]
     },
     "metadata": {},
     "output_type": "display_data"
    },
    {
     "data": {
      "text/html": [
       " View run <strong style=\"color:#cdcd00\">pong_cnn_dqn_v2_optimized</strong> at: <a href='https://wandb.ai/bmartins/pong_dqn_training/runs/nwc4j6tt' target=\"_blank\">https://wandb.ai/bmartins/pong_dqn_training/runs/nwc4j6tt</a><br> View project at: <a href='https://wandb.ai/bmartins/pong_dqn_training' target=\"_blank\">https://wandb.ai/bmartins/pong_dqn_training</a><br>Synced 5 W&B file(s), 31 media file(s), 0 artifact file(s) and 5 other file(s)"
      ],
      "text/plain": [
       "<IPython.core.display.HTML object>"
      ]
     },
     "metadata": {},
     "output_type": "display_data"
    },
    {
     "data": {
      "text/html": [
       "Find logs at: <code>/home/bmartins/dev/rl_study/wandb/wandb/run-20251004_182606-nwc4j6tt/logs</code>"
      ],
      "text/plain": [
       "<IPython.core.display.HTML object>"
      ]
     },
     "metadata": {},
     "output_type": "display_data"
    },
    {
     "name": "stdout",
     "output_type": "stream",
     "text": [
      "CNN-DQN Training completed!\n"
     ]
    }
   ],
   "source": [
    "# Ensure no active MLflow runs before training\n",
    "if mlflow.active_run():\n",
    "    print(\"Ending active MLflow run...\")\n",
    "    mlflow.end_run()\n",
    "\n",
    "# Train the CNN-based DQN\n",
    "trained_model = train_dqn()\n",
    "print(\"CNN-DQN Training completed!\")"
   ]
  }
 ],
 "metadata": {
  "kernelspec": {
   "display_name": "rl_study_312",
   "language": "python",
   "name": "python3"
  },
  "language_info": {
   "codemirror_mode": {
    "name": "ipython",
    "version": 3
   },
   "file_extension": ".py",
   "mimetype": "text/x-python",
   "name": "python",
   "nbconvert_exporter": "python",
   "pygments_lexer": "ipython3",
   "version": "3.12.11"
  }
 },
 "nbformat": 4,
 "nbformat_minor": 4
}
