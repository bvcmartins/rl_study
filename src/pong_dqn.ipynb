{
 "cells": [
  {
   "cell_type": "code",
   "execution_count": 1,
   "metadata": {},
   "outputs": [
    {
     "name": "stderr",
     "output_type": "stream",
     "text": [
      "/home/bmartins/anaconda3/envs/rl_study/lib/python3.10/site-packages/tqdm/auto.py:21: TqdmWarning: IProgress not found. Please update jupyter and ipywidgets. See https://ipywidgets.readthedocs.io/en/stable/user_install.html\n",
      "  from .autonotebook import tqdm as notebook_tqdm\n"
     ]
    }
   ],
   "source": [
    "import time\n",
    "import numpy as np\n",
    "import collections\n",
    "import torch\n",
    "import torch.nn as nn\n",
    "import torch.optim as optim\n",
    "import cv2\n",
    "import gymnasium as gym\n",
    "import matplotlib.pyplot as plt\n",
    "from IPython.display import clear_output"
   ]
  },
  {
   "cell_type": "code",
   "execution_count": 2,
   "metadata": {},
   "outputs": [
    {
     "name": "stderr",
     "output_type": "stream",
     "text": [
      "/home/bmartins/anaconda3/envs/rl_study/lib/python3.10/site-packages/gymnasium/envs/registration.py:512: DeprecationWarning: \u001b[33mWARN: The environment Pong-v0 is out of date. You should consider upgrading to version `v4`.\u001b[0m\n",
      "  logger.deprecation(\n",
      "A.L.E: Arcade Learning Environment (version 0.11.2+ecc1138)\n",
      "[Powered by Stella]\n"
     ]
    }
   ],
   "source": [
    "# Set up environment\n",
    "import ale_py\n",
    "\n",
    "gym.register_envs(ale_py)  # unnecessary but helpful for IDEs\n",
    "env_name = 'Pong-v0'\n",
    "env = gym.make(env_name, render_mode='rgb_array')\n",
    "state_size = (84, 84, 1)  # Single frame for simplicity\n",
    "action_size = env.action_space.n\n",
    "buffer_size = 100000\n",
    "batch_size = 64\n",
    "gamma = 0.99  # Discount factor\n",
    "epsilon = 1.0  # Exploration rate\n",
    "epsilon_min = 0.01  # Minimum exploration rate\n",
    "epsilon_decay = 0.995  # Decay rate for epsilon"
   ]
  },
  {
   "cell_type": "code",
   "execution_count": 3,
   "metadata": {},
   "outputs": [],
   "source": [
    "def frame_preprocessing(observation_frame):\n",
    "    # Crop the frame.\n",
    "    observation_frame = observation_frame[35:195]\n",
    "    # Downsample the frame by a factor of 2.\n",
    "    observation_frame = observation_frame[::2, ::2, 0]\n",
    "    # Remove the background and apply other enhancements.\n",
    "    observation_frame[observation_frame == 144] = 0  # Erase the background (type 1).\n",
    "    observation_frame[observation_frame == 109] = 0  # Erase the background (type 2).\n",
    "    observation_frame[observation_frame != 0] = 1  # Set the items (rackets, ball) to 1.\n",
    "    # Return the preprocessed frame as a 1D floating-point array.\n",
    "    return observation_frame.astype(float)"
   ]
  },
  {
   "cell_type": "code",
   "execution_count": 4,
   "metadata": {},
   "outputs": [],
   "source": [
    "# Preprocess frame\n",
    "def preprocess_frame(frame):\n",
    "    \"\"\"\n",
    "    Convert frame to grayscale, crop, resize to 84x84, and normalize.\n",
    "    Returns a (84, 84) numpy array with values in [0, 1].\n",
    "    \"\"\"\n",
    "    # Convert to grayscale\n",
    "    frame = np.mean(frame, axis=2).astype(np.uint8)\n",
    "    \n",
    "    # Crop the screen to focus on the playing area (remove score and borders)\n",
    "    frame = frame[34:194]  # Height: 210 -> 160\n",
    "    \n",
    "    # Resize to 84x84 using cv2\n",
    "    frame = cv2.resize(frame, (84, 84), interpolation=cv2.INTER_AREA)\n",
    "    \n",
    "    # Normalize pixel values to [0, 1]\n",
    "    frame = frame.astype(np.float32) / 255.0\n",
    "    \n",
    "    return frame"
   ]
  },
  {
   "cell_type": "code",
   "execution_count": 5,
   "metadata": {},
   "outputs": [
    {
     "data": {
      "image/png": "[encoded data removed]",
      "text/plain": [
       "<Figure size 640x480 with 1 Axes>"
      ]
     },
     "metadata": {},
     "output_type": "display_data"
    }
   ],
   "source": [
    "# play the game using a random policy and render the frames in the notebook\n",
    "obs, info = env.reset() \n",
    "obs = preprocess_frame(obs)\n",
    "done = False\n",
    "total_reward = 0\n",
    "    \n",
    "while not done:\n",
    "    action = env.action_space.sample()  # Random action\n",
    "    obs, reward, terminated, truncated, info = env.step(action)\n",
    "    plt.imshow(obs) \n",
    "    plt.show()\n",
    "    clear_output(wait=True)\n",
    "    obs = preprocess_frame(obs)\n",
    "    total_reward += reward\n",
    "        \n",
    "    if terminated or truncated:\n",
    "        done = True\n",
    "            \n",
    "time.sleep(1)\n",
    "\n",
    "env.close() \n",
    "\n"
   ]
  },
  {
   "cell_type": "code",
   "execution_count": 6,
   "metadata": {},
   "outputs": [],
   "source": [
    "# play the game with the UI using a random policy \n",
    "def play_random_policy(env, num_episodes=10):\n",
    "    for episode in range(num_episodes):\n",
    "        obs, _ = env.reset()\n",
    "        done = False\n",
    "        total_reward = 0\n",
    "        while not done:\n",
    "            action = env.action_space.sample()  # Random action\n",
    "            obs, reward, done, _, _ = env.step(action)\n",
    "            total_reward += reward\n",
    "        env.render()  # Render the environment\n",
    "        time.sleep(1)\n",
    "        env.close()\n",
    "\n",
    "play_random_policy(env, num_episodes=3)"
   ]
  },
  {
   "cell_type": "code",
   "execution_count": 7,
   "metadata": {},
   "outputs": [],
   "source": [
    "# Build neural network model\n",
    "class DQN(nn.Module):\n",
    "    def __init__(self, input_shape, action_size):\n",
    "        super(DQN, self).__init__()\n",
    "        self.input_shape = input_shape  # Expected: (batch_size, channels, height, width)\n",
    "        \n",
    "        # Convolutional layers - designed for (1, 84, 84) input\n",
    "        self.conv_layers = nn.Sequential(\n",
    "            nn.Conv2d(1, 32, kernel_size=8, stride=4),  # (32, 20, 20)\n",
    "            nn.ReLU(),\n",
    "            nn.Conv2d(32, 64, kernel_size=4, stride=2),  # (64, 9, 9)\n",
    "            nn.ReLU(),\n",
    "            nn.Conv2d(64, 64, kernel_size=3, stride=1),  # (64, 7, 7)\n",
    "            nn.ReLU(),\n",
    "            nn.Flatten()\n",
    "        )\n",
    "        \n",
    "        # Calculate the output size of conv layers\n",
    "        self.conv_output_size = self._get_conv_output()\n",
    "        \n",
    "        # Fully connected layers\n",
    "        self.fc_layers = nn.Sequential(\n",
    "            nn.Linear(self.conv_output_size, 512),\n",
    "            nn.ReLU(),\n",
    "            nn.Linear(512, action_size)\n",
    "        )\n",
    "    \n",
    "    def _get_conv_output(self):\n",
    "        \"\"\"\n",
    "        Helper method to get the output size of the convolutional layers.\n",
    "        \"\"\"\n",
    "        # Create dummy input with shape (batch_size=1, channels=1, height=84, width=84)\n",
    "        dummy_input = torch.randn(1, 1, 84, 84)\n",
    "        output = self.conv_layers(dummy_input)\n",
    "        return output.size(1)\n",
    "    \n",
    "    def forward(self, x):\n",
    "        \"\"\"\n",
    "        Forward pass of the network.\n",
    "        Input: (batch_size, 84, 84) - single channel grayscale frames\n",
    "        Returns Q-values for each action.\n",
    "        \"\"\"\n",
    "        # Add channel dimension if needed: (batch_size, 84, 84) -> (batch_size, 1, 84, 84)\n",
    "        if len(x.shape) == 3:\n",
    "            x = x.unsqueeze(1)\n",
    "        \n",
    "        # Input is already normalized in preprocessing, no need to normalize again\n",
    "        x = self.conv_layers(x)\n",
    "        x = self.fc_layers(x)\n",
    "        return x"
   ]
  },
  {
   "cell_type": "code",
   "execution_count": 8,
   "metadata": {},
   "outputs": [
    {
     "name": "stdout",
     "output_type": "stream",
     "text": [
      "Original obs shape: (210, 160, 3)\n",
      "Processed state shape: (84, 84)\n",
      "State tensor shape: torch.Size([1, 84, 84])\n",
      "Q-values shape: torch.Size([1, 6])\n",
      "Step info: {'lives': 0, 'episode_frame_number': 3, 'frame_number': 13807}\n"
     ]
    }
   ],
   "source": [
    "obs, _ = env.reset()\n",
    "print(\"Original obs shape:\", obs.shape)\n",
    "state = preprocess_frame(obs)\n",
    "print(\"Processed state shape:\", state.shape)\n",
    "state_tensor = torch.tensor(np.array([state]), dtype=torch.float32)\n",
    "print(\"State tensor shape:\", state_tensor.shape)\n",
    "action_size = env.action_space.n\n",
    "model = DQN((1, 84, 84), action_size).float()  # Use correct input shape\n",
    "q_values = model(state_tensor)\n",
    "print(\"Q-values shape:\", q_values.shape)\n",
    "action = 0\n",
    "step = env.step(action)\n",
    "print(\"Step info:\", step[4])"
   ]
  },
  {
   "cell_type": "code",
   "execution_count": 9,
   "metadata": {},
   "outputs": [
    {
     "data": {
      "text/plain": [
       "((210, 160, 3), torch.Size([1, 84, 84]))"
      ]
     },
     "execution_count": 9,
     "metadata": {},
     "output_type": "execute_result"
    }
   ],
   "source": [
    "env.observation_space.shape, state_tensor.shape"
   ]
  },
  {
   "cell_type": "code",
   "execution_count": 10,
   "metadata": {},
   "outputs": [],
   "source": [
    "Experience = collections.namedtuple('Experience', field_names=['state', 'action', 'reward', 'done', 'new_state'])\n",
    "\n",
    "\n",
    "class ExperienceBuffer:\n",
    "    def __init__(self, capacity):\n",
    "        self.buffer = collections.deque(maxlen=capacity)\n",
    "\n",
    "    def __len__(self):\n",
    "        return len(self.buffer)\n",
    "\n",
    "    def append(self, experience):\n",
    "        self.buffer.append(experience)\n",
    "\n",
    "    def sample(self, batch_size):\n",
    "        indices = np.random.choice(len(self.buffer), batch_size, replace=False)\n",
    "        states, actions, rewards, dones, next_states = zip(*[self.buffer[idx] for idx in indices])\n",
    "        return np.array(states), np.array(actions), np.array(rewards, dtype=np.float32), \\\n",
    "               np.array(dones, dtype=np.uint8), np.array(next_states)"
   ]
  },
  {
   "cell_type": "code",
   "execution_count": 11,
   "metadata": {},
   "outputs": [],
   "source": [
    "GAMMA = 0.99\n",
    "class Agent:\n",
    "    def __init__(self, env, exp_buffer):\n",
    "        self.env = env\n",
    "        self.exp_buffer = exp_buffer\n",
    "        self._reset()\n",
    "\n",
    "    def _reset(self):\n",
    "        self.state, info = self.env.reset()\n",
    "        self.total_reward = 0.0\n",
    "\n",
    "    def play_step(self, net, epsilon=0.0, device=\"cpu\"):\n",
    "        done_reward = None\n",
    "\n",
    "        if np.random.random() < epsilon:\n",
    "            action = self.env.action_space.sample()  # Use self.env instead of global env\n",
    "        else:\n",
    "            state_a = np.array([preprocess_frame(self.state)], copy=False)\n",
    "            state_v = torch.tensor(state_a, dtype=torch.float32).to(device)\n",
    "            q_vals_v = net(state_v)\n",
    "            _, act_v = torch.max(q_vals_v, dim=1)\n",
    "            action = int(act_v.item())\n",
    "\n",
    "        # do step in the environment\n",
    "        new_state, reward, is_done, _, _ = self.env.step(action)\n",
    "        self.total_reward += reward\n",
    "\n",
    "        exp = Experience(preprocess_frame(self.state), action, reward, is_done, preprocess_frame(new_state))\n",
    "        self.exp_buffer.append(exp)\n",
    "        self.state = new_state\n",
    "        if is_done:\n",
    "            done_reward = self.total_reward\n",
    "            self._reset()\n",
    "        return done_reward\n",
    "\n",
    "\n",
    "def calc_loss(batch, net, tgt_net, device=\"cpu\"):\n",
    "    states, actions, rewards, dones, next_states = batch\n",
    "\n",
    "    states_v = torch.tensor(states, dtype=torch.float32).to(device)\n",
    "    next_states_v = torch.tensor(next_states, dtype=torch.float32).to(device)\n",
    "    actions_v = torch.tensor(actions, dtype=torch.long).to(device)\n",
    "    rewards_v = torch.tensor(rewards, dtype=torch.float32).to(device)\n",
    "    done_mask = torch.tensor(dones, dtype=torch.bool).to(device)  # Use bool instead of ByteTensor\n",
    "\n",
    "    state_action_values = net(states_v).gather(1, actions_v.unsqueeze(-1)).squeeze(-1)\n",
    "    next_state_values = tgt_net(next_states_v).max(1)[0]\n",
    "    next_state_values[done_mask] = 0.0\n",
    "    next_state_values = next_state_values.detach()\n",
    "\n",
    "    expected_state_action_values = next_state_values * GAMMA + rewards_v\n",
    "    return nn.MSELoss()(state_action_values, expected_state_action_values)"
   ]
  },
  {
   "cell_type": "code",
   "execution_count": 12,
   "metadata": {},
   "outputs": [],
   "source": [
    "def play_policy(env, net, device, sleep_time=0.05):\n",
    "    obs, info = env.reset() \n",
    "    done = False\n",
    "    total_reward = 0\n",
    "        \n",
    "    while not done:\n",
    "        state_a = np.array([preprocess_frame(obs)], copy=False)\n",
    "        state_v = torch.tensor(state_a).to(device)\n",
    "        q_vals_v = net(state_v)\n",
    "        _, act_v = torch.max(q_vals_v, dim=1)\n",
    "        action = int(act_v.item())\n",
    "        \n",
    "        # do step in the environment\n",
    "        obs, reward, terminated, truncated, info = env.step(action)\n",
    "        plt.imshow(obs) \n",
    "        plt.show()\n",
    "        clear_output(wait=True)\n",
    "        total_reward += reward\n",
    "            \n",
    "        if terminated or truncated:\n",
    "            done = True\n",
    "                \n",
    "        time.sleep(sleep_time)\n",
    "    env.close() \n",
    "    return total_reward"
   ]
  },
  {
   "cell_type": "code",
   "execution_count": 13,
   "metadata": {},
   "outputs": [],
   "source": [
    "MEAN_REWARD_BOUND = 19.5\n",
    "\n",
    "GAMMA = 0.99\n",
    "BATCH_SIZE = 32\n",
    "REPLAY_SIZE = 50000\n",
    "LEARNING_RATE = 1e-4  # Reduced from 1e-2 for more stable training\n",
    "SYNC_TARGET_FRAMES = 1000\n",
    "REPLAY_START_SIZE = 10000\n",
    "\n",
    "EPSILON_DECAY_LAST_FRAME = 10**6\n",
    "EPSILON_START = 1.0\n",
    "EPSILON_FINAL = 0.02"
   ]
  },
  {
   "cell_type": "code",
   "execution_count": null,
   "metadata": {},
   "outputs": [
    {
     "data": {
      "image/png": "[encoded data removed]",
      "text/plain": [
       "<Figure size 1000x500 with 1 Axes>"
      ]
     },
     "metadata": {},
     "output_type": "display_data"
    }
   ],
   "source": [
    "# Training loop setup\n",
    "%matplotlib inline\n",
    "device = torch.device(\"cuda\" if torch.cuda.is_available() else \"cpu\")\n",
    "print(f\"Using device: {device}\")\n",
    "\n",
    "# Initialize networks and optimizer with correct input shape\n",
    "net = DQN((1, 84, 84), env.action_space.n).to(device)\n",
    "tgt_net = DQN((1, 84, 84), env.action_space.n).to(device)\n",
    "optimizer = optim.Adam(net.parameters(), lr=LEARNING_RATE)\n",
    "\n",
    "# Initialize buffers and tracking variables\n",
    "buffer = ExperienceBuffer(REPLAY_SIZE)\n",
    "agent = Agent(env, buffer)\n",
    "total_rewards = []\n",
    "frame_idx = 0\n",
    "ts_frame = 0\n",
    "ts = time.time()\n",
    "best_mean_reward = None\n",
    "reward_history = []\n",
    "\n",
    "while True:\n",
    "    frame_idx += 1\n",
    "    epsilon = max(EPSILON_FINAL, EPSILON_START - frame_idx / EPSILON_DECAY_LAST_FRAME)\n",
    "    reward = agent.play_step(net, epsilon, device=device)\n",
    "    \n",
    "    if reward is not None:\n",
    "        total_rewards.append(reward)\n",
    "        speed = (frame_idx - ts_frame) / (time.time() - ts)\n",
    "        ts_frame = frame_idx\n",
    "        ts = time.time()\n",
    "        mean_reward = np.mean(total_rewards[-100:])\n",
    "        reward_history.append(mean_reward)\n",
    "        \n",
    "        # Print progress\n",
    "        print(f\"Frame {frame_idx}: games={len(total_rewards)}, \"\n",
    "              f\"mean reward={mean_reward:.3f}, eps={epsilon:.2f}, \"\n",
    "              f\"speed={speed:.2f} f/s\")\n",
    "        \n",
    "        # Check for best reward\n",
    "        if best_mean_reward is None or best_mean_reward < mean_reward:\n",
    "            if best_mean_reward is not None:\n",
    "                print(f\"Best mean reward updated {best_mean_reward:.3f} -> {mean_reward:.3f}\")\n",
    "            best_mean_reward = mean_reward\n",
    "            \n",
    "        # Check if solved\n",
    "        if mean_reward > MEAN_REWARD_BOUND:\n",
    "            print(f\"Solved in {frame_idx} frames!\")\n",
    "            break\n",
    "\n",
    "    # Skip until we have enough data\n",
    "    if len(buffer) < REPLAY_START_SIZE:\n",
    "        continue\n",
    "\n",
    "    # Periodic target network update and visualization\n",
    "    if frame_idx % SYNC_TARGET_FRAMES == 0:\n",
    "        tgt_net.load_state_dict(net.state_dict())\n",
    "        \n",
    "        # Update plot\n",
    "        clear_output(wait=True)\n",
    "        plt.figure(figsize=(10, 5))\n",
    "        plt.plot(reward_history)\n",
    "        plt.title('Training Progress')\n",
    "        plt.xlabel('Episodes')\n",
    "        plt.ylabel('Mean Reward')\n",
    "        plt.grid(True)\n",
    "        plt.show()\n",
    "    \n",
    "    # Training step\n",
    "    optimizer.zero_grad()\n",
    "    batch = buffer.sample(BATCH_SIZE)\n",
    "    loss_t = calc_loss(batch, net, tgt_net, device=device)\n",
    "    loss_t.backward()\n",
    "    optimizer.step()"
   ]
  }
 ],
 "metadata": {
  "kernelspec": {
   "display_name": "rl_study",
   "language": "python",
   "name": "python3"
  },
  "language_info": {
   "codemirror_mode": {
    "name": "ipython",
    "version": 3
   },
   "file_extension": ".py",
   "mimetype": "text/x-python",
   "name": "python",
   "nbconvert_exporter": "python",
   "pygments_lexer": "ipython3",
   "version": "3.10.18"
  }
 },
 "nbformat": 4,
 "nbformat_minor": 2
}
